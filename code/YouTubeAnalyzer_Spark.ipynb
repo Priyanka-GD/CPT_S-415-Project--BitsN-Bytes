{
 "cells": [
  {
   "cell_type": "code",
   "execution_count": 1,
   "id": "4bbaeea1",
   "metadata": {},
   "outputs": [],
   "source": [
    "import pyspark.sql.functions as f\n",
    "from graphframes import GraphFrame\n",
    "from pyspark.sql import SparkSession\n",
    "from pyspark.sql.types import StructType, IntegerType, StringType, DoubleType"
   ]
  },
  {
   "cell_type": "code",
   "execution_count": 2,
   "id": "5627e54a",
   "metadata": {},
   "outputs": [],
   "source": [
    "spark = SparkSession.builder.appName(\"YoutubeANalyser\").getOrCreate()"
   ]
  },
  {
   "cell_type": "code",
   "execution_count": 3,
   "id": "161a7bf9",
   "metadata": {},
   "outputs": [],
   "source": [
    "schema = StructType() \\\n",
    "    .add(\"video_id\", StringType(), True) \\\n",
    "    .add(\"uploader\", StringType(), True) \\\n",
    "    .add(\"age\", IntegerType(), True) \\\n",
    "    .add(\"category\", StringType(), True) \\\n",
    "    .add(\"length\", IntegerType(), True) \\\n",
    "    .add(\"views\", IntegerType(), True) \\\n",
    "    .add(\"rate\", DoubleType(), True) \\\n",
    "    .add(\"ratings\", IntegerType(), True) \\\n",
    "    .add(\"comments\", IntegerType(), True) \\\n",
    "    .add(\"ref1\", StringType(), True) \\\n",
    "    .add(\"ref2\", StringType(), True) \\\n",
    "    .add(\"ref3\", StringType(), True) \\\n",
    "    .add(\"ref4\", StringType(), True) \\\n",
    "    .add(\"ref5\", StringType(), True) \\\n",
    "    .add(\"ref6\", StringType(), True) \\\n",
    "    .add(\"ref7\", StringType(), True) \\\n",
    "    .add(\"ref8\", StringType(), True) \\\n",
    "    .add(\"ref9\", StringType(), True) \\\n",
    "    .add(\"ref10\", StringType(), True) \\\n",
    "    .add(\"ref11\", StringType(), True) \\\n",
    "    .add(\"ref12\", StringType(), True) \\\n",
    "    .add(\"ref13\", StringType(), True) \\\n",
    "    .add(\"ref14\", StringType(), True) \\\n",
    "    .add(\"ref15\", StringType(), True) \\\n",
    "    .add(\"ref16\", StringType(), True) \\\n",
    "    .add(\"ref17\", StringType(), True) \\\n",
    "    .add(\"ref18\", StringType(), True) \\\n",
    "    .add(\"ref19\", StringType(), True) \\\n",
    "    .add(\"ref20\", StringType(), True)\n"
   ]
  },
  {
   "cell_type": "code",
   "execution_count": 4,
   "id": "39637def",
   "metadata": {},
   "outputs": [],
   "source": [
    "df = spark.read.format(\"csv\") \\\n",
    "    .option(\"header\", True) \\\n",
    "    .option(\"delimiter\", \"\\t\") \\\n",
    "    .schema(schema) \\\n",
    "    .option(\"inferSchema\", \"true\") \\\n",
    "    .load(\"1.txt\")"
   ]
  },
  {
   "cell_type": "code",
   "execution_count": 5,
   "id": "2aa2377c",
   "metadata": {},
   "outputs": [],
   "source": [
    "video_length = StructType() \\\n",
    "    .add(\"id\", StringType(), True) \\\n",
    "    .add(\"length\", IntegerType(), True)"
   ]
  },
  {
   "cell_type": "code",
   "execution_count": 6,
   "id": "30a1a167",
   "metadata": {},
   "outputs": [],
   "source": [
    "video_size = StructType() \\\n",
    "    .add(\"id_\", StringType(), True) \\\n",
    "    .add(\"length_\", IntegerType(), True) \\\n",
    "    .add(\"size\", IntegerType(), True)"
   ]
  },
  {
   "cell_type": "code",
   "execution_count": 7,
   "id": "d1f45543",
   "metadata": {},
   "outputs": [],
   "source": [
    "dfVideoLength = spark.read.format(\"csv\") \\\n",
    "    .option(\"header\", True) \\\n",
    "    .option(\"delimiter\", \"\\t\") \\\n",
    "    .schema(video_length) \\\n",
    "    .option(\"inferSchema\", \"true\") \\\n",
    "    .load(\"idlength.txt\")"
   ]
  },
  {
   "cell_type": "code",
   "execution_count": 8,
   "id": "60b40e4b",
   "metadata": {},
   "outputs": [],
   "source": [
    "dfVideoSize = spark.read.format(\"csv\") \\\n",
    "    .option(\"header\", True) \\\n",
    "    .option(\"delimiter\", \"\\t\") \\\n",
    "    .schema(video_size) \\\n",
    "    .option(\"inferSchema\", \"true\") \\\n",
    "    .load(\"size.txt\")"
   ]
  },
  {
   "cell_type": "code",
   "execution_count": 9,
   "id": "078423ba",
   "metadata": {},
   "outputs": [],
   "source": [
    "dfMappedLength = dfVideoLength.join(dfVideoSize, dfVideoSize.id_ == dfVideoLength.id).select('id', 'length_', 'size')\n"
   ]
  },
  {
   "cell_type": "code",
   "execution_count": 10,
   "id": "9c724b4c",
   "metadata": {},
   "outputs": [],
   "source": [
    "dfRawData = df.select(\"video_id\", \"uploader\", \"age\", \"category\", \"length\", \"views\", \"rate\", \"ratings\", \"comments\")\n"
   ]
  },
  {
   "cell_type": "code",
   "execution_count": 11,
   "id": "b8c7ef94",
   "metadata": {},
   "outputs": [
    {
     "name": "stdout",
     "output_type": "stream",
     "text": [
      "+-----------+-------+--------+-----------+----------------+---+----------------+------+------+----+-------+--------+\n",
      "|         id|length_|    size|   video_id|        uploader|age|        category|length| views|rate|ratings|comments|\n",
      "+-----------+-------+--------+-----------+----------------+---+----------------+------+------+----+-------+--------+\n",
      "|vy74CnRaQgs|    420|17390492|vy74CnRaQgs|       supreme84|697|          Sports|   420| 35186|4.68|     44|      51|\n",
      "|6hJCfXllrqE|    309|13497109|6hJCfXllrqE|  DanielSundgren|613|           Music|   309|  1230|2.67|      3|       0|\n",
      "|GvIFh3por14|    538|22236234|GvIFh3por14|   CharlesCoburn|690|   Entertainment|   538| 12788|4.56|     25|      41|\n",
      "|Eykcs8v77N0|      9|  352917|Eykcs8v77N0|        gweebage|600|  People & Blogs|     9| 12176|3.67|      9|       0|\n",
      "|LqiLaTpIhD4|    149| 5994499|LqiLaTpIhD4| MyCadillacStory|722|Autos & Vehicles|   149|  5178| 4.2|     20|      16|\n",
      "|uObTAvVz2iY|     27| 1005034|uObTAvVz2iY| MyCadillacStory|716|Autos & Vehicles|    27|  2914| 4.5|      8|       3|\n",
      "|Q6KmM2_jsR0|     48| 1895868|Q6KmM2_jsR0| MyCadillacStory|698|Autos & Vehicles|    48| 16020|4.42|     31|      22|\n",
      "|6qc9bMuffoE|     30| 1219883|6qc9bMuffoE| MyCadillacStory|687|Autos & Vehicles|    30|  2996| 4.3|     10|       4|\n",
      "|0ZH7NBiruqk|     52| 2102878|0ZH7NBiruqk| MyCadillacStory|675|Autos & Vehicles|    52|  3320| 4.3|     10|       5|\n",
      "|CycZagvqJps|     49| 1898621|CycZagvqJps| MyCadillacStory|675|Autos & Vehicles|    49|  2299|4.09|     11|       2|\n",
      "|g9m-Mjk9a44|     96| 3942324|g9m-Mjk9a44| MyCadillacStory|675|Autos & Vehicles|    96| 11306|4.17|     24|      19|\n",
      "|CMNaxTCbgJU|      9|  311645|CMNaxTCbgJU| MyCadillacStory|675|Autos & Vehicles|     9|  4125|4.29|      7|       3|\n",
      "|qsrnHkeKtqs|     32| 1335841|qsrnHkeKtqs| MyCadillacStory|675|Autos & Vehicles|    32|  1020| 4.0|      4|       1|\n",
      "|vXZEPt7mbgY|     64| 2585631|vXZEPt7mbgY| MyCadillacStory|675|Autos & Vehicles|    64|  2939| 5.0|     10|       6|\n",
      "|wo8ceXX21oc|    124| 4764966|wo8ceXX21oc|     iPhoneusers|695| News & Politics|   124|   805| 4.6|      5|       0|\n",
      "|Am56liCVcaw|    587|17231193|Am56liCVcaw|matthewisthebest|693|     Howto & DIY|   587| 13980|3.81|     16|      16|\n",
      "|tyYUJUl3lNs|    237| 9750888|tyYUJUl3lNs|phatteningphilms|703| News & Politics|   237|   237| 5.0|      2|       1|\n",
      "|EqNBeSp1MRw|    594|24660894|EqNBeSp1MRw|          bucqui|551| News & Politics|   594|  2671|3.03|     38|       8|\n",
      "|r92ZCONFStk|    270|10808997|r92ZCONFStk|     thewinekone|520|          Comedy|   270|179877|4.71|   4632|    2256|\n",
      "|jUGBWD6Xo44|    241| 9995583|jUGBWD6Xo44| HeartacheXTears|627|           Music|   241|   890|4.56|      9|       7|\n",
      "+-----------+-------+--------+-----------+----------------+---+----------------+------+------+----+-------+--------+\n",
      "only showing top 20 rows\n",
      "\n"
     ]
    }
   ],
   "source": [
    "dfSIzeMappedWithRaw = dfMappedLength.join(dfRawData, dfRawData.video_id == dfMappedLength.id).select('*')\n",
    "dfSIzeMappedWithRaw.show()"
   ]
  },
  {
   "cell_type": "code",
   "execution_count": 12,
   "id": "11cabdda",
   "metadata": {},
   "outputs": [],
   "source": [
    "columns = [f.col('ref1'), f.col('ref2'), f.col('ref3'), f.col('ref4'), f.col('ref5'), f.col('ref6'), f.col('ref7'),\n",
    "           f.col('ref8'), f.col('ref9'), f.col('ref10'), f.col('ref11'), f.col('ref12'), f.col('ref13'), f.col('ref14'),\n",
    "           f.col('ref15'), f.col('ref16'), f.col('ref17'), f.col('ref18'), f.col('ref19'), f.col('ref20')]"
   ]
  },
  {
   "cell_type": "code",
   "execution_count": 13,
   "id": "10bea3ae",
   "metadata": {},
   "outputs": [],
   "source": [
    "output = df.withColumn(\"related\", f.array(columns)).select(\"video_id\", \"related\")"
   ]
  },
  {
   "cell_type": "code",
   "execution_count": 40,
   "id": "2395671e",
   "metadata": {},
   "outputs": [
    {
     "data": {
      "text/plain": [
       "DataFrame[video_id: string, related: array<string>]"
      ]
     },
     "execution_count": 40,
     "metadata": {},
     "output_type": "execute_result"
    }
   ],
   "source": [
    "output"
   ]
  },
  {
   "cell_type": "code",
   "execution_count": 41,
   "id": "738895e1",
   "metadata": {},
   "outputs": [
    {
     "name": "stdout",
     "output_type": "stream",
     "text": [
      "root\n",
      " |-- video_id: string (nullable = true)\n",
      " |-- related: array (nullable = false)\n",
      " |    |-- element: string (containsNull = true)\n",
      "\n"
     ]
    }
   ],
   "source": [
    "output.printSchema()"
   ]
  },
  {
   "cell_type": "code",
   "execution_count": 14,
   "id": "9e502530",
   "metadata": {},
   "outputs": [],
   "source": [
    "dfEdge = output.select(output.video_id, f.explode(output.related))\n",
    "dfEdge = dfEdge.withColumnRenamed(\"col\", \"dst\") \\\n",
    "    .withColumnRenamed(\"video_id\", \"src\")"
   ]
  },
  {
   "cell_type": "code",
   "execution_count": 22,
   "id": "968a34c8",
   "metadata": {},
   "outputs": [],
   "source": [
    "g = GraphFrame(dfSIzeMappedWithRaw, dfEdge)"
   ]
  },
  {
   "cell_type": "code",
   "execution_count": 23,
   "id": "01b8ab95",
   "metadata": {},
   "outputs": [
    {
     "name": "stdout",
     "output_type": "stream",
     "text": [
      "+-----------+--------+\n",
      "|         id|inDegree|\n",
      "+-----------+--------+\n",
      "|71agSyF_TYo|       4|\n",
      "|MydHXSjZgp4|      19|\n",
      "|CVqSmBSEe0I|       1|\n",
      "|z-fQEgmQFXE|       1|\n",
      "|NBSQWuujn-I|       1|\n",
      "|82nR5p-XDs8|       2|\n",
      "|OdiwzztQtTE|       1|\n",
      "|pSnaNtvfTqg|       1|\n",
      "|grZIe1wKEH4|       1|\n",
      "|9iS97D0Rkko|       2|\n",
      "|8vuIsp5J-bU|       1|\n",
      "|zopZmUhKduI|       1|\n",
      "|OKiXkQYatfA|       1|\n",
      "|JaOoaE8h7n8|       1|\n",
      "|-6TUKuLXaJU|       1|\n",
      "|SxxBsNbdhhY|       1|\n",
      "|Sr5p09qkG34|       1|\n",
      "|gd2qoz5eL8k|       6|\n",
      "|BCQvVTGng28|       1|\n",
      "|bhVvC3zuvSY|       2|\n",
      "+-----------+--------+\n",
      "only showing top 20 rows\n",
      "\n"
     ]
    }
   ],
   "source": [
    "g.inDegrees.show()"
   ]
  },
  {
   "cell_type": "code",
   "execution_count": 24,
   "id": "939813b7",
   "metadata": {},
   "outputs": [
    {
     "name": "stdout",
     "output_type": "stream",
     "text": [
      "+-------------+\n",
      "|max(inDegree)|\n",
      "+-------------+\n",
      "|         2906|\n",
      "+-------------+\n",
      "\n"
     ]
    }
   ],
   "source": [
    "# MAX indegree\n",
    "g.inDegrees.agg({\"inDegree\": \"max\"}).show()"
   ]
  },
  {
   "cell_type": "code",
   "execution_count": 25,
   "id": "4e88f119",
   "metadata": {},
   "outputs": [
    {
     "name": "stdout",
     "output_type": "stream",
     "text": [
      "+-------------+\n",
      "|min(inDegree)|\n",
      "+-------------+\n",
      "|            1|\n",
      "+-------------+\n",
      "\n"
     ]
    }
   ],
   "source": [
    "# MIN indegree\n",
    "g.inDegrees.agg({\"inDegree\": \"min\"}).show()"
   ]
  },
  {
   "cell_type": "code",
   "execution_count": 26,
   "id": "b94f5307",
   "metadata": {},
   "outputs": [
    {
     "name": "stdout",
     "output_type": "stream",
     "text": [
      "+------------------+\n",
      "|     avg(inDegree)|\n",
      "+------------------+\n",
      "|2.1884406983744733|\n",
      "+------------------+\n",
      "\n"
     ]
    }
   ],
   "source": [
    "# AVG indegree\n",
    "g.inDegrees.agg({\"inDegree\": \"avg\"}).show()"
   ]
  },
  {
   "cell_type": "code",
   "execution_count": 27,
   "id": "7bc3f648",
   "metadata": {},
   "outputs": [
    {
     "name": "stdout",
     "output_type": "stream",
     "text": [
      "+-----------+---------+\n",
      "|         id|outDegree|\n",
      "+-----------+---------+\n",
      "|MydHXSjZgp4|       20|\n",
      "|WkY4gKaPNBw|       20|\n",
      "|gd2qoz5eL8k|       20|\n",
      "|_9fZtJsq1gI|       20|\n",
      "|jKxg40VySI4|       20|\n",
      "|ZyWgo4QMrfQ|       20|\n",
      "|zMSpTvv9tg8|       20|\n",
      "|2o3lFsf3fkQ|       20|\n",
      "|3866CS6QVC8|       20|\n",
      "|8XrLxo15i48|       20|\n",
      "|hmh1xt7yiVs|       20|\n",
      "|_hDsHDjERA0|       20|\n",
      "|rQDqbpq3lpU|       20|\n",
      "|yUWD2vZbO84|       20|\n",
      "|GcIEpyem6XY|       20|\n",
      "|ZqF5_OD-4Xw|       20|\n",
      "|0Kc4_YpOHlM|       20|\n",
      "|dATGTZm3Ypc|       20|\n",
      "|7ZCjnSkpyZc|       20|\n",
      "|ntuFXBvwIl8|       20|\n",
      "+-----------+---------+\n",
      "only showing top 20 rows\n",
      "\n"
     ]
    }
   ],
   "source": [
    "g.outDegrees.show()"
   ]
  },
  {
   "cell_type": "code",
   "execution_count": 28,
   "id": "8be8ed95",
   "metadata": {},
   "outputs": [
    {
     "name": "stdout",
     "output_type": "stream",
     "text": [
      "+--------------+\n",
      "|max(outDegree)|\n",
      "+--------------+\n",
      "|            20|\n",
      "+--------------+\n",
      "\n"
     ]
    }
   ],
   "source": [
    "# MAX outdegree\n",
    "g.outDegrees.agg({\"outDegree\": \"max\"}).show()"
   ]
  },
  {
   "cell_type": "code",
   "execution_count": 29,
   "id": "f0f0f731",
   "metadata": {},
   "outputs": [
    {
     "name": "stdout",
     "output_type": "stream",
     "text": [
      "+--------------+\n",
      "|min(outDegree)|\n",
      "+--------------+\n",
      "|            20|\n",
      "+--------------+\n",
      "\n"
     ]
    }
   ],
   "source": [
    "# MIN outdegree\n",
    "g.outDegrees.agg({\"outDegree\": \"min\"}).show()"
   ]
  },
  {
   "cell_type": "code",
   "execution_count": 30,
   "id": "da291fd8",
   "metadata": {},
   "outputs": [
    {
     "name": "stdout",
     "output_type": "stream",
     "text": [
      "+--------------+\n",
      "|avg(outDegree)|\n",
      "+--------------+\n",
      "|          20.0|\n",
      "+--------------+\n",
      "\n"
     ]
    }
   ],
   "source": [
    "# AVG outdegree\n",
    "g.outDegrees.agg({\"outDegree\": \"avg\"}).show()"
   ]
  },
  {
   "cell_type": "code",
   "execution_count": 31,
   "id": "30cf57eb",
   "metadata": {},
   "outputs": [
    {
     "name": "stdout",
     "output_type": "stream",
     "text": [
      "+----------------+-----+\n",
      "|        category|count|\n",
      "+----------------+-----+\n",
      "|           Music|   22|\n",
      "|Autos & Vehicles|   17|\n",
      "| News & Politics|   14|\n",
      "|     Howto & DIY|   10|\n",
      "|  People & Blogs|    9|\n",
      "|   Entertainment|    7|\n",
      "|          Sports|    7|\n",
      "| Gadgets & Games|    6|\n",
      "|          Comedy|    5|\n",
      "|            UNA |    2|\n",
      "|Film & Animation|    2|\n",
      "| Travel & Places|    1|\n",
      "+----------------+-----+\n",
      "\n"
     ]
    }
   ],
   "source": [
    "# B. Search\n",
    "# - top k queries\n",
    "g.vertices.groupBy(\"category\").count().sort(f.col(\"count\").desc()).show()"
   ]
  },
  {
   "cell_type": "code",
   "execution_count": 32,
   "id": "ae06f5f7",
   "metadata": {},
   "outputs": [
    {
     "name": "stdout",
     "output_type": "stream",
     "text": [
      "+-----------+-------+--------+-----------+-----------+---+--------+------+-----+----+-------+--------+\n",
      "|         id|length_|    size|   video_id|   uploader|age|category|length|views|rate|ratings|comments|\n",
      "+-----------+-------+--------+-----------+-----------+---+--------+------+-----+----+-------+--------+\n",
      "|vy74CnRaQgs|    420|17390492|vy74CnRaQgs|  supreme84|697|  Sports|   420|35186|4.68|     44|      51|\n",
      "|3qNVLn0rNYk|    311|12966459|3qNVLn0rNYk|     jhsieh|502|  Sports|   311|10683|4.53|     15|       3|\n",
      "|8CCSF0G84HQ|    219| 7661791|8CCSF0G84HQ|  truckitup|517|  Sports|   219| 2276|4.33|      3|       0|\n",
      "|vyiVL0zPpaE|    254|10490566|vyiVL0zPpaE|glidinclyde|457|  Sports|   254| 2459| 5.0|      8|       7|\n",
      "|S1imSSkqOB8|    242| 8730888|S1imSSkqOB8|    leasky8|671|  Sports|   242| 4113|4.35|     17|      15|\n",
      "|28gYtVPOm5U|    216| 8953391|28gYtVPOm5U| xlcpuvirus|646|  Sports|   216| 4019|4.62|     16|       2|\n",
      "|KzbYR_Ri3ww|     96| 3708444|KzbYR_Ri3ww|     Jlinck|658|  Sports|    96| 2573|3.33|      3|       0|\n",
      "+-----------+-------+--------+-----------+-----------+---+--------+------+-----+----+-------+--------+\n",
      "\n"
     ]
    }
   ],
   "source": [
    "# Range queries: find all videos in categories X with duration within a range [t1, t2]; find all\n",
    "g.vertices.filter((f.col('length').between(0, 9999999999)) & (f.col('category') == 'Sports')).show()"
   ]
  },
  {
   "cell_type": "code",
   "execution_count": 34,
   "id": "95623c5b",
   "metadata": {},
   "outputs": [
    {
     "name": "stdout",
     "output_type": "stream",
     "text": [
      "+---------------+-----+\n",
      "|       uploader|count|\n",
      "+---------------+-----+\n",
      "|MyCadillacStory|   11|\n",
      "|     lilscrappy|    9|\n",
      "|       heniadir|    3|\n",
      "|  bigwallypants|    2|\n",
      "|        thirdd3|    2|\n",
      "|          reeuh|    1|\n",
      "|      truckitup|    1|\n",
      "|       yatucamp|    1|\n",
      "|     xlcpuvirus|    1|\n",
      "|        jensyao|    1|\n",
      "|       kylaalee|    1|\n",
      "|     bishop8000|    1|\n",
      "|    glidinclyde|    1|\n",
      "|       gweebage|    1|\n",
      "|     liamtipton|    1|\n",
      "| DanielSundgren|    1|\n",
      "|  coyoteboy1983|    1|\n",
      "|     YagoCooper|    1|\n",
      "|          VVasp|    1|\n",
      "|        erkut89|    1|\n",
      "+---------------+-----+\n",
      "only showing top 20 rows\n",
      "\n"
     ]
    }
   ],
   "source": [
    "# videos with size in range [x,y].\n",
    "g.vertices.groupBy(\"uploader\").count().sort(f.col(\"count\").desc()).show()"
   ]
  },
  {
   "cell_type": "code",
   "execution_count": 35,
   "id": "1417bd43",
   "metadata": {},
   "outputs": [
    {
     "name": "stdout",
     "output_type": "stream",
     "text": [
      "+-----------+-------+--------+-----------+-----------+---+--------+------+-----+----+-------+--------+\n",
      "|         id|length_|    size|   video_id|   uploader|age|category|length|views|rate|ratings|comments|\n",
      "+-----------+-------+--------+-----------+-----------+---+--------+------+-----+----+-------+--------+\n",
      "|vy74CnRaQgs|    420|17390492|vy74CnRaQgs|  supreme84|697|  Sports|   420|35186|4.68|     44|      51|\n",
      "|3qNVLn0rNYk|    311|12966459|3qNVLn0rNYk|     jhsieh|502|  Sports|   311|10683|4.53|     15|       3|\n",
      "|8CCSF0G84HQ|    219| 7661791|8CCSF0G84HQ|  truckitup|517|  Sports|   219| 2276|4.33|      3|       0|\n",
      "|vyiVL0zPpaE|    254|10490566|vyiVL0zPpaE|glidinclyde|457|  Sports|   254| 2459| 5.0|      8|       7|\n",
      "|S1imSSkqOB8|    242| 8730888|S1imSSkqOB8|    leasky8|671|  Sports|   242| 4113|4.35|     17|      15|\n",
      "|28gYtVPOm5U|    216| 8953391|28gYtVPOm5U| xlcpuvirus|646|  Sports|   216| 4019|4.62|     16|       2|\n",
      "|KzbYR_Ri3ww|     96| 3708444|KzbYR_Ri3ww|     Jlinck|658|  Sports|    96| 2573|3.33|      3|       0|\n",
      "+-----------+-------+--------+-----------+-----------+---+--------+------+-----+----+-------+--------+\n",
      "\n"
     ]
    }
   ],
   "source": [
    "g.vertices.filter((f.col('size').between(0, 9999999999)) & (f.col('category') == 'Sports')).show()"
   ]
  },
  {
   "cell_type": "code",
   "execution_count": 36,
   "id": "76def019",
   "metadata": {},
   "outputs": [
    {
     "name": "stdout",
     "output_type": "stream",
     "text": [
      "+-----------+-------+--------+-----------+----------------+---+----------------+------+------+----+-------+--------+------------------+\n",
      "|         id|length_|    size|   video_id|        uploader|age|        category|length| views|rate|ratings|comments|          pagerank|\n",
      "+-----------+-------+--------+-----------+----------------+---+----------------+------+------+----+-------+--------+------------------+\n",
      "|vy74CnRaQgs|    420|17390492|vy74CnRaQgs|       supreme84|697|          Sports|   420| 35186|4.68|     44|      51|0.4049279991415213|\n",
      "|6hJCfXllrqE|    309|13497109|6hJCfXllrqE|  DanielSundgren|613|           Music|   309|  1230|2.67|      3|       0|0.4049279991415213|\n",
      "|GvIFh3por14|    538|22236234|GvIFh3por14|   CharlesCoburn|690|   Entertainment|   538| 12788|4.56|     25|      41|0.4049279991415213|\n",
      "|Eykcs8v77N0|      9|  352917|Eykcs8v77N0|        gweebage|600|  People & Blogs|     9| 12176|3.67|      9|       0|0.4049279991415213|\n",
      "|LqiLaTpIhD4|    149| 5994499|LqiLaTpIhD4| MyCadillacStory|722|Autos & Vehicles|   149|  5178| 4.2|     20|      16| 2.554700438385539|\n",
      "|uObTAvVz2iY|     27| 1005034|uObTAvVz2iY| MyCadillacStory|716|Autos & Vehicles|    27|  2914| 4.5|      8|       3| 2.554700438385539|\n",
      "|Q6KmM2_jsR0|     48| 1895868|Q6KmM2_jsR0| MyCadillacStory|698|Autos & Vehicles|    48| 16020|4.42|     31|      22| 2.554700438385539|\n",
      "|6qc9bMuffoE|     30| 1219883|6qc9bMuffoE| MyCadillacStory|687|Autos & Vehicles|    30|  2996| 4.3|     10|       4| 2.554700438385539|\n",
      "|0ZH7NBiruqk|     52| 2102878|0ZH7NBiruqk| MyCadillacStory|675|Autos & Vehicles|    52|  3320| 4.3|     10|       5| 2.554700438385539|\n",
      "|CycZagvqJps|     49| 1898621|CycZagvqJps| MyCadillacStory|675|Autos & Vehicles|    49|  2299|4.09|     11|       2| 2.554700438385539|\n",
      "|g9m-Mjk9a44|     96| 3942324|g9m-Mjk9a44| MyCadillacStory|675|Autos & Vehicles|    96| 11306|4.17|     24|      19| 2.554700438385539|\n",
      "|CMNaxTCbgJU|      9|  311645|CMNaxTCbgJU| MyCadillacStory|675|Autos & Vehicles|     9|  4125|4.29|      7|       3| 2.554700438385539|\n",
      "|qsrnHkeKtqs|     32| 1335841|qsrnHkeKtqs| MyCadillacStory|675|Autos & Vehicles|    32|  1020| 4.0|      4|       1| 2.554700438385539|\n",
      "|vXZEPt7mbgY|     64| 2585631|vXZEPt7mbgY| MyCadillacStory|675|Autos & Vehicles|    64|  2939| 5.0|     10|       6| 2.554700438385539|\n",
      "|wo8ceXX21oc|    124| 4764966|wo8ceXX21oc|     iPhoneusers|695| News & Politics|   124|   805| 4.6|      5|       0|0.7491167984118142|\n",
      "|Am56liCVcaw|    587|17231193|Am56liCVcaw|matthewisthebest|693|     Howto & DIY|   587| 13980|3.81|     16|      16|1.0416772777915633|\n",
      "|tyYUJUl3lNs|    237| 9750888|tyYUJUl3lNs|phatteningphilms|703| News & Politics|   237|   237| 5.0|      2|       1|0.4049279991415213|\n",
      "|EqNBeSp1MRw|    594|24660894|EqNBeSp1MRw|          bucqui|551| News & Politics|   594|  2671|3.03|     38|       8|0.4049279991415213|\n",
      "|r92ZCONFStk|    270|10808997|r92ZCONFStk|     thewinekone|520|          Comedy|   270|179877|4.71|   4632|    2256|0.4049279991415213|\n",
      "|jUGBWD6Xo44|    241| 9995583|jUGBWD6Xo44| HeartacheXTears|627|           Music|   241|   890|4.56|      9|       7|0.4049279991415213|\n",
      "+-----------+-------+--------+-----------+----------------+---+----------------+------+------+----+-------+--------+------------------+\n",
      "only showing top 20 rows\n",
      "\n"
     ]
    }
   ],
   "source": [
    "# C. PageRank\n",
    "pr = g.pageRank(resetProbability=0.15, tol=0.01)\n",
    "pr.vertices.show()"
   ]
  },
  {
   "cell_type": "code",
   "execution_count": 37,
   "id": "862b325a",
   "metadata": {},
   "outputs": [
    {
     "name": "stdout",
     "output_type": "stream",
     "text": [
      "+-----------+-----------+-------------------+\n",
      "|        src|        dst|             weight|\n",
      "+-----------+-----------+-------------------+\n",
      "|TFWNpS4E4fM|gSP9EnBHI10|               0.25|\n",
      "|BU7L9OawuMI|gSP9EnBHI10|               0.25|\n",
      "|q8u2TSrw_Pc|r76T2EG90MA|                0.2|\n",
      "|_yUo9crgm3U|r76T2EG90MA|0.16666666666666666|\n",
      "|LqiLaTpIhD4|6qc9bMuffoE|0.09090909090909091|\n",
      "|uObTAvVz2iY|6qc9bMuffoE|0.09090909090909091|\n",
      "|Q6KmM2_jsR0|6qc9bMuffoE|0.09090909090909091|\n",
      "|6qc9bMuffoE|6qc9bMuffoE|0.09090909090909091|\n",
      "|0ZH7NBiruqk|6qc9bMuffoE|0.09090909090909091|\n",
      "|CycZagvqJps|6qc9bMuffoE|0.09090909090909091|\n",
      "|g9m-Mjk9a44|6qc9bMuffoE|0.09090909090909091|\n",
      "|CMNaxTCbgJU|6qc9bMuffoE|0.09090909090909091|\n",
      "|qsrnHkeKtqs|6qc9bMuffoE|0.09090909090909091|\n",
      "|vXZEPt7mbgY|6qc9bMuffoE|0.09090909090909091|\n",
      "|v28pkP3WCLw|6qc9bMuffoE|0.09090909090909091|\n",
      "|AQXj7ANHP-Q|40NRsg0UsA0| 0.1111111111111111|\n",
      "|Hyfmg9zrbYI|40NRsg0UsA0| 0.1111111111111111|\n",
      "|40NRsg0UsA0|40NRsg0UsA0| 0.1111111111111111|\n",
      "|abkj32lgDKc|40NRsg0UsA0| 0.1111111111111111|\n",
      "|1FTwiGn-Jd4|40NRsg0UsA0| 0.1111111111111111|\n",
      "+-----------+-----------+-------------------+\n",
      "only showing top 20 rows\n",
      "\n"
     ]
    }
   ],
   "source": [
    "pr.edges.show()"
   ]
  },
  {
   "cell_type": "code",
   "execution_count": null,
   "id": "4c0e5620",
   "metadata": {},
   "outputs": [],
   "source": []
  }
 ],
 "metadata": {
  "kernelspec": {
   "display_name": "Python 3 (ipykernel)",
   "language": "python",
   "name": "python3"
  },
  "language_info": {
   "codemirror_mode": {
    "name": "ipython",
    "version": 3
   },
   "file_extension": ".py",
   "mimetype": "text/x-python",
   "name": "python",
   "nbconvert_exporter": "python",
   "pygments_lexer": "ipython3",
   "version": "3.9.12"
  }
 },
 "nbformat": 4,
 "nbformat_minor": 5
}
